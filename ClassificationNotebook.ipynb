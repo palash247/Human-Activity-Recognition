{
 "cells": [
  {
   "cell_type": "code",
   "execution_count": 2,
   "metadata": {},
   "outputs": [
    {
     "name": "stderr",
     "output_type": "stream",
     "text": [
      "/home/palash/anaconda3/lib/python3.6/site-packages/statsmodels/compat/pandas.py:56: FutureWarning: The pandas.core.datetools module is deprecated and will be removed in a future version. Please use the pandas.tseries module instead.\n",
      "  from pandas.core import datetools\n"
     ]
    }
   ],
   "source": [
    "import pandas as pd\n",
    "import numpy as np\n",
    "import time\n",
    "from tsfresh.feature_extraction import extract_features, EfficientFCParameters, MinimalFCParameters,ComprehensiveFCParameters\n",
    "import math\n",
    "from sklearn.cluster import KMeans\n",
    "from sklearn.ensemble import RandomForestClassifier\n",
    "%matplotlib inline\n",
    "from pylab import rcParams\n",
    "rcParams['figure.figsize'] = 20,10\n",
    "rcParams['font.size'] = 22"
   ]
  },
  {
   "cell_type": "code",
   "execution_count": 20,
   "metadata": {
    "collapsed": true
   },
   "outputs": [],
   "source": [
    "sampling_rate = 20\n",
    "window_size = 2 * sampling_rate"
   ]
  },
  {
   "cell_type": "code",
   "execution_count": 15,
   "metadata": {
    "collapsed": true
   },
   "outputs": [],
   "source": [
    "# for extracting windows from the data frame\n",
    "def extract_windows(data,window_size,step):\n",
    "    m = data.shape[0]\n",
    "    total_windows = int(1 + (m-window_size)/step)\n",
    "    lb = 0\n",
    "    ub = 0\n",
    "    window_collection = data.iloc[:window_size,:].assign(markers=lambda x: np.repeat(0,window_size))\n",
    "    for window in range(1,total_windows):\n",
    "        lb = step * window\n",
    "        ub = lb + window_size\n",
    "        window_collection = window_collection.append(data.iloc[lb:ub,:].assign(markers=lambda x: np.repeat(window,window_size)))\n",
    "    # handling remaining samples at the bottom of the dataset\n",
    "    if ub<data.shape[0]:\n",
    "        window_collection = window_collection.append(data.iloc[ub:m,:].assign(markers=lambda x: np.repeat(window+1,m-ub)))\n",
    "    return window_collection"
   ]
  },
  {
   "cell_type": "code",
   "execution_count": 17,
   "metadata": {
    "collapsed": true
   },
   "outputs": [],
   "source": [
    "def rolling_average(df, features):\n",
    "    df[features] = df[features].rolling(3).mean()\n",
    "    df.dropna(how='any',inplace=True)\n",
    "    return df"
   ]
  },
  {
   "cell_type": "code",
   "execution_count": 36,
   "metadata": {
    "collapsed": true
   },
   "outputs": [],
   "source": [
    "header = ['Timestamp','Ac-x','Ac-y','Ac-z','Gy-x','Gy-y','Gy-z','Activity']\n",
    "features = ['Ac-x','Ac-y','Ac-z','Gy-x','Gy-y','Gy-z']\n",
    "standing_data = pd.read_csv('Standing_1515954467.329419.csv')\n",
    "standing_data.columns = header\n",
    "walking_data = pd.read_csv('Walking_1515954999.8478549.csv')\n",
    "walking_data.columns = header\n",
    "squats_data = pd.read_csv('Squats_1515955470.654806.csv')\n",
    "squats_data.columns = header\n",
    "jumping_jack_data = pd.read_csv('Jumping_Jack_1515955890.306268.csv')\n",
    "jumping_jack_data.columns = header\n",
    "lying_data = pd.read_csv('Lying_1515956102.0983102.csv')\n",
    "lying_data.columns = header\n",
    "\n",
    "standing_data = rolling_average(standing_data,features)\n",
    "walking_data = rolling_average(walking_data,features)\n",
    "squats_data = rolling_average(squats_data,features)\n",
    "jumping_jack_data = rolling_average(jumping_jack_data,features)\n",
    "lying_data = rolling_average(lying_data,features)\n",
    "\n",
    "standing_data = extract_windows(standing_data,window_size,int(window_size*0.75))\n",
    "walking_data = extract_windows(walking_data,window_size,int(window_size*0.75))\n",
    "squats_data = extract_windows(squats_data,window_size,int(window_size*0.75))\n",
    "jumping_jack_data = extract_windows(jumping_jack_data,window_size,int(window_size*0.75))\n",
    "lying_data = extract_windows(lying_data,window_size,int(window_size*0.75))\n",
    "\n",
    "walking_data['markers'] = walking_data['markers'] + standing_data['markers'].iloc[-1]+1\n",
    "squats_data['markers'] = squats_data['markers'] + walking_data['markers'].iloc[-1] +1\n",
    "jumping_jack_data['markers'] = jumping_jack_data['markers'] + squats_data['markers'].iloc[-1] + 1\n",
    "lying_data['markers'] = lying_data['markers'] + jumping_jack_data['markers'].iloc[-1] + 1"
   ]
  },
  {
   "cell_type": "code",
   "execution_count": 41,
   "metadata": {
    "collapsed": true
   },
   "outputs": [],
   "source": [
    "final_data = standing_data\n",
    "final_data = final_data.append([walking_data,squats_data,jumping_jack_data,lying_data],ignore_index=True)"
   ]
  },
  {
   "cell_type": "code",
   "execution_count": 93,
   "metadata": {},
   "outputs": [
    {
     "name": "stderr",
     "output_type": "stream",
     "text": [
      "\n",
      "Feature Extraction:   0%|          | 0/10 [00:00<?, ?it/s]\u001b[A\n",
      "Feature Extraction:  10%|█         | 1/10 [00:00<00:04,  1.97it/s]\u001b[A\n",
      "Feature Extraction:  20%|██        | 2/10 [00:00<00:02,  3.63it/s]\u001b[A\n",
      "Feature Extraction:  30%|███       | 3/10 [00:00<00:02,  3.15it/s]\u001b[A\n",
      "Feature Extraction:  40%|████      | 4/10 [00:01<00:01,  3.30it/s]\u001b[A\n",
      "Feature Extraction:  50%|█████     | 5/10 [00:01<00:01,  3.53it/s]\u001b[A\n",
      "Feature Extraction:  60%|██████    | 6/10 [00:01<00:01,  3.65it/s]\u001b[A\n",
      "Feature Extraction:  70%|███████   | 7/10 [00:01<00:00,  3.64it/s]\u001b[A\n",
      "Feature Extraction:  80%|████████  | 8/10 [00:02<00:00,  3.55it/s]\u001b[A\n",
      "Feature Extraction:  90%|█████████ | 9/10 [00:02<00:00,  3.63it/s]\u001b[A\n",
      "Feature Extraction: 100%|██████████| 10/10 [00:02<00:00,  3.72it/s]\u001b[A\n",
      "\u001b[A"
     ]
    }
   ],
   "source": [
    "columns = ['Timestamp','Ac-x','Ac-y','Ac-z','Gy-x','Gy-y','Gy-z','markers']\n",
    "fc_parameters = {\n",
    "    'abs_energy':None,\n",
    "    'maximum': None,\n",
    "    'mean': None,\n",
    "    'median': None,\n",
    "    'minimum': None,\n",
    "    'standard_deviation': None,\n",
    "    'variance': None,\n",
    "    'kurtosis': None,\n",
    "    'skewness': None,\n",
    "}\n",
    "extracted_features = extract_features(final_data[columns],\n",
    "                                      column_id=\"markers\",\n",
    "                                      column_sort=\"Timestamp\",\n",
    "                                      default_fc_parameters=fc_parameters,\n",
    "                                      n_jobs=2)"
   ]
  },
  {
   "cell_type": "code",
   "execution_count": 94,
   "metadata": {},
   "outputs": [
    {
     "data": {
      "text/plain": [
       "Index(['Ac-x__abs_energy', 'Ac-x__kurtosis', 'Ac-x__maximum', 'Ac-x__mean',\n",
       "       'Ac-x__median', 'Ac-x__minimum', 'Ac-x__skewness',\n",
       "       'Ac-x__standard_deviation', 'Ac-x__variance', 'Ac-y__abs_energy',\n",
       "       'Ac-y__kurtosis', 'Ac-y__maximum', 'Ac-y__mean', 'Ac-y__median',\n",
       "       'Ac-y__minimum', 'Ac-y__skewness', 'Ac-y__standard_deviation',\n",
       "       'Ac-y__variance', 'Ac-z__abs_energy', 'Ac-z__kurtosis', 'Ac-z__maximum',\n",
       "       'Ac-z__mean', 'Ac-z__median', 'Ac-z__minimum', 'Ac-z__skewness',\n",
       "       'Ac-z__standard_deviation', 'Ac-z__variance', 'Gy-x__abs_energy',\n",
       "       'Gy-x__kurtosis', 'Gy-x__maximum', 'Gy-x__mean', 'Gy-x__median',\n",
       "       'Gy-x__minimum', 'Gy-x__skewness', 'Gy-x__standard_deviation',\n",
       "       'Gy-x__variance', 'Gy-y__abs_energy', 'Gy-y__kurtosis', 'Gy-y__maximum',\n",
       "       'Gy-y__mean', 'Gy-y__median', 'Gy-y__minimum', 'Gy-y__skewness',\n",
       "       'Gy-y__standard_deviation', 'Gy-y__variance', 'Gy-z__abs_energy',\n",
       "       'Gy-z__kurtosis', 'Gy-z__maximum', 'Gy-z__mean', 'Gy-z__median',\n",
       "       'Gy-z__minimum', 'Gy-z__skewness', 'Gy-z__standard_deviation',\n",
       "       'Gy-z__variance'],\n",
       "      dtype='object', name='variable')"
      ]
     },
     "execution_count": 94,
     "metadata": {},
     "output_type": "execute_result"
    }
   ],
   "source": [
    "extracted_features.columns"
   ]
  },
  {
   "cell_type": "code",
   "execution_count": 95,
   "metadata": {
    "collapsed": true
   },
   "outputs": [],
   "source": [
    "from sklearn.model_selection import train_test_split\n",
    "from sklearn import svm\n",
    "from sklearn.ensemble import RandomForestClassifier"
   ]
  },
  {
   "cell_type": "code",
   "execution_count": 96,
   "metadata": {
    "collapsed": true
   },
   "outputs": [],
   "source": [
    "gr = final_data.groupby('markers')"
   ]
  },
  {
   "cell_type": "code",
   "execution_count": 131,
   "metadata": {},
   "outputs": [
    {
     "data": {
      "text/plain": [
       "Activity\n",
       "Jumping_Jack     2185\n",
       "Lying            7529\n",
       "Squats           2264\n",
       "Standing        11167\n",
       "Walking          9134\n",
       "Name: markers, dtype: int64"
      ]
     },
     "execution_count": 131,
     "metadata": {},
     "output_type": "execute_result"
    }
   ],
   "source": [
    "final_data.groupby('Activity').markers.count()"
   ]
  },
  {
   "cell_type": "code",
   "execution_count": 145,
   "metadata": {
    "collapsed": true
   },
   "outputs": [],
   "source": [
    "X_train, X_test, y_train, y_test = train_test_split(extracted_features, gr.Activity.describe()['top'], test_size=0.2, random_state=0)"
   ]
  },
  {
   "cell_type": "code",
   "execution_count": 146,
   "metadata": {
    "collapsed": true
   },
   "outputs": [],
   "source": [
    "rf_cfl = RandomForestClassifier(n_estimators=100,n_jobs=3)"
   ]
  },
  {
   "cell_type": "code",
   "execution_count": 147,
   "metadata": {
    "collapsed": true
   },
   "outputs": [],
   "source": [
    "rf_model = rf_cfl.fit(X_train,y_train)"
   ]
  },
  {
   "cell_type": "code",
   "execution_count": 148,
   "metadata": {
    "collapsed": true
   },
   "outputs": [],
   "source": [
    "svm_model = svm.SVC(random_state=0).fit(X_train, y_train)"
   ]
  },
  {
   "cell_type": "code",
   "execution_count": 149,
   "metadata": {},
   "outputs": [
    {
     "data": {
      "text/plain": [
       "0.76543209876543206"
      ]
     },
     "execution_count": 149,
     "metadata": {},
     "output_type": "execute_result"
    }
   ],
   "source": [
    "svm_model.score(X_test,y_test)"
   ]
  },
  {
   "cell_type": "code",
   "execution_count": 150,
   "metadata": {},
   "outputs": [
    {
     "data": {
      "text/plain": [
       "1.0"
      ]
     },
     "execution_count": 150,
     "metadata": {},
     "output_type": "execute_result"
    }
   ],
   "source": [
    "rf_model.score(X_test,y_test)"
   ]
  },
  {
   "cell_type": "code",
   "execution_count": 151,
   "metadata": {},
   "outputs": [
    {
     "data": {
      "text/plain": [
       "array(['Jumping_Jack', 'Standing', 'Standing', 'Walking', 'Standing',\n",
       "       'Standing', 'Walking', 'Walking', 'Standing', 'Lying', 'Lying',\n",
       "       'Walking', 'Standing', 'Standing', 'Lying', 'Lying', 'Walking',\n",
       "       'Standing', 'Standing', 'Standing', 'Lying', 'Walking', 'Standing',\n",
       "       'Walking', 'Walking', 'Lying', 'Lying', 'Lying', 'Standing',\n",
       "       'Jumping_Jack', 'Standing', 'Standing', 'Standing', 'Walking',\n",
       "       'Walking', 'Walking', 'Standing', 'Lying', 'Walking',\n",
       "       'Jumping_Jack', 'Walking', 'Lying', 'Standing', 'Squats', 'Lying',\n",
       "       'Lying', 'Jumping_Jack', 'Lying', 'Standing', 'Standing', 'Walking',\n",
       "       'Standing', 'Walking', 'Walking', 'Walking', 'Standing', 'Walking',\n",
       "       'Jumping_Jack', 'Jumping_Jack', 'Squats', 'Lying', 'Standing',\n",
       "       'Walking', 'Walking', 'Walking', 'Lying', 'Lying', 'Lying',\n",
       "       'Standing', 'Lying', 'Standing', 'Walking', 'Lying', 'Lying',\n",
       "       'Lying', 'Standing', 'Lying', 'Walking', 'Walking', 'Standing',\n",
       "       'Standing', 'Lying', 'Standing', 'Walking', 'Standing', 'Squats',\n",
       "       'Standing', 'Standing', 'Lying', 'Standing', 'Lying', 'Standing',\n",
       "       'Jumping_Jack', 'Standing', 'Walking', 'Walking', 'Walking',\n",
       "       'Jumping_Jack', 'Lying', 'Walking', 'Lying', 'Walking', 'Walking',\n",
       "       'Jumping_Jack', 'Walking', 'Walking', 'Lying', 'Walking', 'Walking',\n",
       "       'Walking', 'Jumping_Jack', 'Jumping_Jack', 'Walking', 'Squats',\n",
       "       'Lying', 'Walking', 'Standing', 'Walking', 'Standing', 'Standing',\n",
       "       'Lying', 'Walking', 'Walking', 'Standing', 'Walking', 'Lying',\n",
       "       'Standing', 'Standing', 'Lying', 'Jumping_Jack', 'Standing',\n",
       "       'Walking', 'Walking', 'Standing', 'Walking', 'Standing', 'Standing',\n",
       "       'Standing', 'Lying', 'Jumping_Jack', 'Lying', 'Walking', 'Standing',\n",
       "       'Standing', 'Lying', 'Standing', 'Lying', 'Lying', 'Lying', 'Lying',\n",
       "       'Walking', 'Standing', 'Walking', 'Lying', 'Squats', 'Standing',\n",
       "       'Walking', 'Lying', 'Standing', 'Standing', 'Walking', 'Standing'], dtype=object)"
      ]
     },
     "execution_count": 151,
     "metadata": {},
     "output_type": "execute_result"
    }
   ],
   "source": [
    "rf_model.predict(X_test)"
   ]
  },
  {
   "cell_type": "code",
   "execution_count": 152,
   "metadata": {},
   "outputs": [
    {
     "name": "stdout",
     "output_type": "stream",
     "text": [
      "Ac-x__abs_energy 0.0218065764368\n",
      "Ac-x__kurtosis 0.00124256009566\n",
      "Ac-x__maximum 0.0053142459622\n",
      "Ac-x__mean 0.00182387444744\n",
      "Ac-x__median 0.00118178123466\n",
      "Ac-x__minimum 0.00658447597047\n",
      "Ac-x__skewness 0.000221231789051\n",
      "Ac-x__standard_deviation 0.0147932780057\n",
      "Ac-x__variance 0.015383101451\n",
      "Ac-y__abs_energy 0.0594436150056\n",
      "Ac-y__kurtosis 0.00190438858383\n",
      "Ac-y__maximum 0.0608563024942\n",
      "Ac-y__mean 0.0393905912886\n",
      "Ac-y__median 0.0571905761733\n",
      "Ac-y__minimum 0.126344644584\n",
      "Ac-y__skewness 0.000870537566489\n",
      "Ac-y__standard_deviation 0.0348378559527\n",
      "Ac-y__variance 0.0377033265617\n",
      "Ac-z__abs_energy 0.0219088136938\n",
      "Ac-z__kurtosis 0.000429556740352\n",
      "Ac-z__maximum 0.0168203581563\n",
      "Ac-z__mean 0.0168953751767\n",
      "Ac-z__median 0.0103708403065\n",
      "Ac-z__minimum 0.0137322714367\n",
      "Ac-z__skewness 0.000414446651943\n",
      "Ac-z__standard_deviation 0.01873986375\n",
      "Ac-z__variance 0.0130087524894\n",
      "Gy-x__abs_energy 0.0296307512173\n",
      "Gy-x__kurtosis 0.000251831541509\n",
      "Gy-x__maximum 0.0102853275884\n",
      "Gy-x__mean 0.000797010441286\n",
      "Gy-x__median 0.00119914024474\n",
      "Gy-x__minimum 0.0120986969552\n",
      "Gy-x__skewness 0.00108027771648\n",
      "Gy-x__standard_deviation 0.0135655351171\n",
      "Gy-x__variance 0.0185117216062\n",
      "Gy-y__abs_energy 0.0469002922324\n",
      "Gy-y__kurtosis 0.000569454346219\n",
      "Gy-y__maximum 0.00416630088795\n",
      "Gy-y__mean 0.000508444303938\n",
      "Gy-y__median 0.000422621388383\n",
      "Gy-y__minimum 0.00191773048043\n",
      "Gy-y__skewness 0.00157726035735\n",
      "Gy-y__standard_deviation 0.0205618076554\n",
      "Gy-y__variance 0.0301244911016\n",
      "Gy-z__abs_energy 0.0616733391176\n",
      "Gy-z__kurtosis 0.000369463668814\n",
      "Gy-z__maximum 0.000652379855792\n",
      "Gy-z__mean 0.000446766220626\n",
      "Gy-z__median 0.000263209652108\n",
      "Gy-z__minimum 0.00671868773105\n",
      "Gy-z__skewness 0.000233326627146\n",
      "Gy-z__standard_deviation 0.0599346030939\n",
      "Gy-z__variance 0.0763262868457\n"
     ]
    }
   ],
   "source": [
    "for feature, importance in zip(extracted_features.columns,rf_model.feature_importances_):\n",
    "    print(feature, importance)"
   ]
  },
  {
   "cell_type": "code",
   "execution_count": 153,
   "metadata": {
    "collapsed": true
   },
   "outputs": [],
   "source": [
    "from sklearn.model_selection import cross_val_score"
   ]
  },
  {
   "cell_type": "code",
   "execution_count": 154,
   "metadata": {
    "collapsed": true
   },
   "outputs": [],
   "source": [
    "scores = cross_val_score(rfclf, extracted_features, gr.Activity.describe()['top'], cv=10)"
   ]
  },
  {
   "cell_type": "code",
   "execution_count": 155,
   "metadata": {},
   "outputs": [
    {
     "data": {
      "text/plain": [
       "array([ 0.86585366,  1.        ,  1.        ,  1.        ,  1.        ,\n",
       "        0.97530864,  1.        ,  0.9875    ,  1.        ,  1.        ])"
      ]
     },
     "execution_count": 155,
     "metadata": {},
     "output_type": "execute_result"
    }
   ],
   "source": [
    "scores"
   ]
  },
  {
   "cell_type": "code",
   "execution_count": 156,
   "metadata": {
    "collapsed": true
   },
   "outputs": [],
   "source": [
    "from sklearn.externals import joblib"
   ]
  },
  {
   "cell_type": "code",
   "execution_count": 157,
   "metadata": {},
   "outputs": [
    {
     "data": {
      "text/plain": [
       "['RandomForest']"
      ]
     },
     "execution_count": 157,
     "metadata": {},
     "output_type": "execute_result"
    }
   ],
   "source": [
    "joblib.dump(rf_model,'RandomForest')"
   ]
  },
  {
   "cell_type": "code",
   "execution_count": 173,
   "metadata": {},
   "outputs": [
    {
     "name": "stderr",
     "output_type": "stream",
     "text": [
      "\n",
      "\n",
      "\n",
      "\n",
      "Feature Extraction:   0%|          | 0/6 [00:00<?, ?it/s]\u001b[A\n",
      "Feature Extraction: 100%|██████████| 6/6 [00:00<00:00, 1407.25it/s]\u001b[A"
     ]
    },
    {
     "name": "stdout",
     "output_type": "stream",
     "text": [
      "['Standing']\n"
     ]
    },
    {
     "name": "stderr",
     "output_type": "stream",
     "text": [
      "\n",
      "\n",
      "\n",
      "\n",
      "Feature Extraction:   0%|          | 0/6 [00:00<?, ?it/s]\u001b[A\n",
      "Feature Extraction: 100%|██████████| 6/6 [00:00<00:00, 1941.96it/s]\u001b[A"
     ]
    },
    {
     "name": "stdout",
     "output_type": "stream",
     "text": [
      "['Standing']\n"
     ]
    },
    {
     "name": "stderr",
     "output_type": "stream",
     "text": [
      "\n",
      "\n",
      "\n",
      "\n",
      "Feature Extraction:   0%|          | 0/6 [00:00<?, ?it/s]\u001b[A\n",
      "Feature Extraction: 100%|██████████| 6/6 [00:00<00:00, 1101.01it/s]\u001b[A"
     ]
    },
    {
     "name": "stdout",
     "output_type": "stream",
     "text": [
      "['Walking']\n"
     ]
    },
    {
     "name": "stderr",
     "output_type": "stream",
     "text": [
      "\n",
      "\n",
      "\n",
      "\n",
      "Feature Extraction:   0%|          | 0/6 [00:00<?, ?it/s]\u001b[A\n",
      "Feature Extraction: 100%|██████████| 6/6 [00:00<00:00, 735.39it/s]\u001b[A"
     ]
    },
    {
     "name": "stdout",
     "output_type": "stream",
     "text": [
      "['Jumping_Jack']\n"
     ]
    },
    {
     "name": "stderr",
     "output_type": "stream",
     "text": [
      "\n",
      "\n",
      "\n",
      "\n",
      "Feature Extraction:   0%|          | 0/6 [00:00<?, ?it/s]\u001b[A\n",
      "Feature Extraction: 100%|██████████| 6/6 [00:00<00:00, 661.98it/s]\u001b[A"
     ]
    },
    {
     "name": "stdout",
     "output_type": "stream",
     "text": [
      "['Lying']\n"
     ]
    },
    {
     "name": "stderr",
     "output_type": "stream",
     "text": [
      "\n",
      "\n",
      "\n",
      "\n",
      "Feature Extraction:   0%|          | 0/6 [00:00<?, ?it/s]\u001b[A\n",
      "Feature Extraction: 100%|██████████| 6/6 [00:00<00:00, 3194.04it/s]\u001b[A"
     ]
    },
    {
     "name": "stdout",
     "output_type": "stream",
     "text": [
      "['Lying']\n"
     ]
    },
    {
     "name": "stderr",
     "output_type": "stream",
     "text": [
      "\n",
      "\n",
      "\n",
      "\n",
      "Feature Extraction:   0%|          | 0/6 [00:00<?, ?it/s]\u001b[A\n",
      "Feature Extraction: 100%|██████████| 6/6 [00:00<00:00, 529.15it/s]\u001b[A"
     ]
    },
    {
     "name": "stdout",
     "output_type": "stream",
     "text": [
      "['Jumping_Jack']\n"
     ]
    },
    {
     "name": "stderr",
     "output_type": "stream",
     "text": [
      "\n",
      "\n",
      "\n",
      "\n",
      "Feature Extraction:   0%|          | 0/6 [00:00<?, ?it/s]\u001b[A\n",
      "Feature Extraction: 100%|██████████| 6/6 [00:00<00:00, 6297.75it/s]\u001b[A"
     ]
    },
    {
     "name": "stdout",
     "output_type": "stream",
     "text": [
      "['Jumping_Jack']\n"
     ]
    },
    {
     "name": "stderr",
     "output_type": "stream",
     "text": [
      "\n",
      "\n",
      "\n",
      "\n",
      "Feature Extraction:   0%|          | 0/6 [00:00<?, ?it/s]\u001b[A\n",
      "Feature Extraction: 100%|██████████| 6/6 [00:00<00:00, 332.68it/s]\u001b[A"
     ]
    },
    {
     "name": "stdout",
     "output_type": "stream",
     "text": [
      "['Jumping_Jack']\n"
     ]
    },
    {
     "name": "stderr",
     "output_type": "stream",
     "text": [
      "\n",
      "\n",
      "\n",
      "\n",
      "Feature Extraction:   0%|          | 0/6 [00:00<?, ?it/s]\u001b[A\n",
      "Feature Extraction: 100%|██████████| 6/6 [00:00<00:00, 468.62it/s]\u001b[A"
     ]
    },
    {
     "name": "stdout",
     "output_type": "stream",
     "text": [
      "['Jumping_Jack']\n"
     ]
    },
    {
     "name": "stderr",
     "output_type": "stream",
     "text": [
      "\n",
      "\n",
      "\n",
      "\n",
      "Feature Extraction:   0%|          | 0/6 [00:00<?, ?it/s]\u001b[A\n",
      "Feature Extraction: 100%|██████████| 6/6 [00:00<00:00, 3899.26it/s]\u001b[A"
     ]
    },
    {
     "name": "stdout",
     "output_type": "stream",
     "text": [
      "['Jumping_Jack']\n"
     ]
    },
    {
     "name": "stderr",
     "output_type": "stream",
     "text": [
      "\n",
      "\n",
      "\n",
      "\n",
      "Feature Extraction:   0%|          | 0/6 [00:00<?, ?it/s]\u001b[A\n",
      "Feature Extraction: 100%|██████████| 6/6 [00:00<00:00, 2709.50it/s]\u001b[A"
     ]
    },
    {
     "name": "stdout",
     "output_type": "stream",
     "text": [
      "['Jumping_Jack']\n"
     ]
    },
    {
     "name": "stderr",
     "output_type": "stream",
     "text": [
      "\n",
      "\n",
      "\n",
      "\n",
      "Feature Extraction:   0%|          | 0/6 [00:00<?, ?it/s]\u001b[A\n",
      "Feature Extraction: 100%|██████████| 6/6 [00:00<00:00, 442.73it/s]\u001b[A"
     ]
    },
    {
     "name": "stdout",
     "output_type": "stream",
     "text": [
      "['Jumping_Jack']\n"
     ]
    },
    {
     "name": "stderr",
     "output_type": "stream",
     "text": [
      "\n",
      "\n",
      "\n",
      "\n",
      "Feature Extraction:   0%|          | 0/6 [00:00<?, ?it/s]\u001b[A\n",
      "Feature Extraction: 100%|██████████| 6/6 [00:00<00:00, 365.44it/s]\u001b[A"
     ]
    },
    {
     "name": "stdout",
     "output_type": "stream",
     "text": [
      "['Walking']\n"
     ]
    },
    {
     "name": "stderr",
     "output_type": "stream",
     "text": [
      "\n",
      "\n",
      "\n",
      "\n",
      "Feature Extraction:   0%|          | 0/6 [00:00<?, ?it/s]\u001b[A\n",
      "Feature Extraction: 100%|██████████| 6/6 [00:00<00:00, 563.89it/s]\u001b[A"
     ]
    },
    {
     "name": "stdout",
     "output_type": "stream",
     "text": [
      "['Walking']\n"
     ]
    },
    {
     "name": "stderr",
     "output_type": "stream",
     "text": [
      "\n",
      "\n",
      "\n",
      "\n",
      "Feature Extraction:   0%|          | 0/6 [00:00<?, ?it/s]\u001b[A\n",
      "Feature Extraction: 100%|██████████| 6/6 [00:00<00:00, 714.69it/s]\u001b[A"
     ]
    },
    {
     "name": "stdout",
     "output_type": "stream",
     "text": [
      "['Lying']\n"
     ]
    },
    {
     "name": "stderr",
     "output_type": "stream",
     "text": [
      "\n",
      "\n",
      "\n",
      "\n",
      "Feature Extraction:   0%|          | 0/6 [00:00<?, ?it/s]\u001b[A\n",
      "Feature Extraction: 100%|██████████| 6/6 [00:00<00:00, 665.32it/s]\u001b[A"
     ]
    },
    {
     "name": "stdout",
     "output_type": "stream",
     "text": [
      "['Lying']\n"
     ]
    },
    {
     "name": "stderr",
     "output_type": "stream",
     "text": [
      "\n",
      "\n",
      "\n",
      "Feature Extraction:   0%|          | 0/6 [00:00<?, ?it/s]\u001b[A\n",
      "\n",
      "Feature Extraction: 100%|██████████| 6/6 [00:00<00:00, 483.35it/s]\u001b[A"
     ]
    },
    {
     "name": "stdout",
     "output_type": "stream",
     "text": [
      "['Lying']\n"
     ]
    },
    {
     "name": "stderr",
     "output_type": "stream",
     "text": [
      "\n",
      "\n",
      "\n",
      "\n",
      "Feature Extraction:   0%|          | 0/6 [00:00<?, ?it/s]\u001b[A\n",
      "Feature Extraction: 100%|██████████| 6/6 [00:00<00:00, 579.00it/s]\u001b[A"
     ]
    },
    {
     "name": "stdout",
     "output_type": "stream",
     "text": [
      "['Lying']\n"
     ]
    },
    {
     "name": "stderr",
     "output_type": "stream",
     "text": [
      "\n",
      "\n",
      "\n",
      "\n",
      "Feature Extraction:   0%|          | 0/6 [00:00<?, ?it/s]\u001b[A\n",
      "Feature Extraction: 100%|██████████| 6/6 [00:00<00:00, 516.78it/s]\u001b[A"
     ]
    },
    {
     "name": "stdout",
     "output_type": "stream",
     "text": [
      "['Lying']\n"
     ]
    },
    {
     "name": "stderr",
     "output_type": "stream",
     "text": [
      "\n",
      "\n",
      "\n",
      "\n",
      "Feature Extraction:   0%|          | 0/6 [00:00<?, ?it/s]\u001b[A\n",
      "Feature Extraction: 100%|██████████| 6/6 [00:00<00:00, 424.08it/s]\u001b[A"
     ]
    },
    {
     "name": "stdout",
     "output_type": "stream",
     "text": [
      "['Lying']\n"
     ]
    },
    {
     "name": "stderr",
     "output_type": "stream",
     "text": [
      "\n",
      "\n",
      "\n",
      "\n",
      "Feature Extraction:   0%|          | 0/6 [00:00<?, ?it/s]\u001b[A\n",
      "Feature Extraction: 100%|██████████| 6/6 [00:00<00:00, 3428.59it/s]\u001b[A"
     ]
    },
    {
     "name": "stdout",
     "output_type": "stream",
     "text": [
      "['Lying']\n"
     ]
    },
    {
     "name": "stderr",
     "output_type": "stream",
     "text": [
      "\n",
      "\n",
      "\n",
      "\n",
      "Feature Extraction:   0%|          | 0/6 [00:00<?, ?it/s]\u001b[A\n",
      "Feature Extraction: 100%|██████████| 6/6 [00:00<00:00, 1164.06it/s]\u001b[A"
     ]
    },
    {
     "name": "stdout",
     "output_type": "stream",
     "text": [
      "['Lying']\n"
     ]
    },
    {
     "name": "stderr",
     "output_type": "stream",
     "text": [
      "\n",
      "\n",
      "\n",
      "\n",
      "Feature Extraction:   0%|          | 0/6 [00:00<?, ?it/s]\u001b[A\n",
      "Feature Extraction: 100%|██████████| 6/6 [00:00<00:00, 1302.04it/s]\u001b[A"
     ]
    },
    {
     "name": "stdout",
     "output_type": "stream",
     "text": [
      "['Lying']\n"
     ]
    },
    {
     "name": "stderr",
     "output_type": "stream",
     "text": [
      "\n",
      "\n",
      "\n",
      "\n",
      "Feature Extraction:   0%|          | 0/6 [00:00<?, ?it/s]\u001b[A\n",
      "Feature Extraction: 100%|██████████| 6/6 [00:00<00:00, 430.98it/s]\u001b[A"
     ]
    },
    {
     "name": "stdout",
     "output_type": "stream",
     "text": [
      "['Lying']\n"
     ]
    },
    {
     "name": "stderr",
     "output_type": "stream",
     "text": [
      "\n",
      "\n",
      "\n",
      "\n",
      "Feature Extraction:   0%|          | 0/6 [00:00<?, ?it/s]\u001b[A\n",
      "Feature Extraction: 100%|██████████| 6/6 [00:00<00:00, 1227.36it/s]\u001b[A"
     ]
    },
    {
     "name": "stdout",
     "output_type": "stream",
     "text": [
      "['Lying']\n"
     ]
    },
    {
     "name": "stderr",
     "output_type": "stream",
     "text": [
      "\n",
      "\n",
      "\n",
      "\n",
      "Feature Extraction:   0%|          | 0/6 [00:00<?, ?it/s]\u001b[A\n",
      "Feature Extraction: 100%|██████████| 6/6 [00:00<00:00, 358.30it/s]\u001b[A"
     ]
    },
    {
     "name": "stdout",
     "output_type": "stream",
     "text": [
      "['Walking']\n"
     ]
    },
    {
     "name": "stderr",
     "output_type": "stream",
     "text": [
      "\n",
      "\n",
      "\n",
      "\n",
      "Feature Extraction:   0%|          | 0/6 [00:00<?, ?it/s]\u001b[A\n",
      "Feature Extraction: 100%|██████████| 6/6 [00:00<00:00, 679.57it/s]\u001b[A"
     ]
    },
    {
     "name": "stdout",
     "output_type": "stream",
     "text": [
      "['Walking']\n"
     ]
    },
    {
     "name": "stderr",
     "output_type": "stream",
     "text": [
      "\n",
      "\n",
      "\n",
      "\n",
      "Feature Extraction:   0%|          | 0/6 [00:00<?, ?it/s]\u001b[A\n",
      "Feature Extraction: 100%|██████████| 6/6 [00:00<00:00, 1518.94it/s]\u001b[A"
     ]
    },
    {
     "name": "stdout",
     "output_type": "stream",
     "text": [
      "['Walking']\n"
     ]
    },
    {
     "name": "stderr",
     "output_type": "stream",
     "text": [
      "\n",
      "\n",
      "\n",
      "\n",
      "Feature Extraction:   0%|          | 0/6 [00:00<?, ?it/s]\u001b[A\n",
      "Feature Extraction: 100%|██████████| 6/6 [00:00<00:00, 555.18it/s]\u001b[A"
     ]
    },
    {
     "name": "stdout",
     "output_type": "stream",
     "text": [
      "['Walking']\n"
     ]
    },
    {
     "name": "stderr",
     "output_type": "stream",
     "text": [
      "\n",
      "\n",
      "\n",
      "\n",
      "Feature Extraction:   0%|          | 0/6 [00:00<?, ?it/s]\u001b[A\n",
      "Feature Extraction: 100%|██████████| 6/6 [00:00<00:00, 5096.36it/s]\u001b[A"
     ]
    },
    {
     "name": "stdout",
     "output_type": "stream",
     "text": [
      "['Walking']\n"
     ]
    },
    {
     "name": "stderr",
     "output_type": "stream",
     "text": [
      "\n",
      "\n",
      "\n",
      "\n",
      "Feature Extraction:   0%|          | 0/6 [00:00<?, ?it/s]\u001b[A\n",
      "Feature Extraction: 100%|██████████| 6/6 [00:00<00:00, 331.19it/s]\u001b[A"
     ]
    },
    {
     "name": "stdout",
     "output_type": "stream",
     "text": [
      "['Walking']\n"
     ]
    },
    {
     "name": "stderr",
     "output_type": "stream",
     "text": [
      "\n",
      "\n",
      "\n",
      "\n",
      "Feature Extraction:   0%|          | 0/6 [00:00<?, ?it/s]\u001b[A\n",
      "Feature Extraction: 100%|██████████| 6/6 [00:00<00:00, 4806.31it/s]\u001b[A"
     ]
    },
    {
     "name": "stdout",
     "output_type": "stream",
     "text": [
      "['Walking']\n"
     ]
    },
    {
     "name": "stderr",
     "output_type": "stream",
     "text": [
      "\n",
      "\n",
      "\n",
      "\n",
      "Feature Extraction:   0%|          | 0/6 [00:00<?, ?it/s]\u001b[A\n",
      "Feature Extraction: 100%|██████████| 6/6 [00:00<00:00, 329.62it/s]\u001b[A"
     ]
    },
    {
     "name": "stdout",
     "output_type": "stream",
     "text": [
      "['Walking']\n"
     ]
    },
    {
     "name": "stderr",
     "output_type": "stream",
     "text": [
      "\n",
      "\n",
      "\n",
      "\n",
      "Feature Extraction:   0%|          | 0/6 [00:00<?, ?it/s]\u001b[A\n",
      "Feature Extraction: 100%|██████████| 6/6 [00:00<00:00, 3598.20it/s]\u001b[A"
     ]
    },
    {
     "name": "stdout",
     "output_type": "stream",
     "text": [
      "['Walking']\n"
     ]
    },
    {
     "name": "stderr",
     "output_type": "stream",
     "text": [
      "\n",
      "\n",
      "\n",
      "\n",
      "Feature Extraction:   0%|          | 0/6 [00:00<?, ?it/s]\u001b[A\n",
      "Feature Extraction: 100%|██████████| 6/6 [00:00<00:00, 550.57it/s]\u001b[A"
     ]
    },
    {
     "name": "stdout",
     "output_type": "stream",
     "text": [
      "['Walking']\n"
     ]
    },
    {
     "name": "stderr",
     "output_type": "stream",
     "text": [
      "\n",
      "\n",
      "\n",
      "\n",
      "Feature Extraction:   0%|          | 0/6 [00:00<?, ?it/s]\u001b[A\n",
      "Feature Extraction: 100%|██████████| 6/6 [00:00<00:00, 4078.74it/s]\u001b[A"
     ]
    },
    {
     "name": "stdout",
     "output_type": "stream",
     "text": [
      "['Walking']\n"
     ]
    },
    {
     "name": "stderr",
     "output_type": "stream",
     "text": [
      "\n",
      "\n",
      "\n",
      "\n",
      "Feature Extraction:   0%|          | 0/6 [00:00<?, ?it/s]\u001b[A\n",
      "Feature Extraction: 100%|██████████| 6/6 [00:00<00:00, 4351.69it/s]\u001b[A"
     ]
    },
    {
     "name": "stdout",
     "output_type": "stream",
     "text": [
      "['Walking']\n"
     ]
    },
    {
     "name": "stderr",
     "output_type": "stream",
     "text": [
      "\n",
      "\n",
      "\n",
      "\n",
      "Feature Extraction:   0%|          | 0/6 [00:00<?, ?it/s]\u001b[A\n",
      "Feature Extraction: 100%|██████████| 6/6 [00:00<00:00, 372.91it/s]\u001b[A"
     ]
    },
    {
     "name": "stdout",
     "output_type": "stream",
     "text": [
      "['Walking']\n"
     ]
    },
    {
     "name": "stderr",
     "output_type": "stream",
     "text": [
      "\n",
      "\n",
      "\n",
      "\n",
      "Feature Extraction:   0%|          | 0/6 [00:00<?, ?it/s]\u001b[A\n",
      "Feature Extraction: 100%|██████████| 6/6 [00:00<00:00, 434.49it/s]\u001b[A"
     ]
    },
    {
     "name": "stdout",
     "output_type": "stream",
     "text": [
      "['Walking']\n"
     ]
    },
    {
     "name": "stderr",
     "output_type": "stream",
     "text": [
      "\n",
      "\n",
      "\n",
      "\n",
      "Feature Extraction:   0%|          | 0/6 [00:00<?, ?it/s]\u001b[A\n",
      "Feature Extraction: 100%|██████████| 6/6 [00:00<00:00, 641.00it/s]\u001b[A"
     ]
    },
    {
     "name": "stdout",
     "output_type": "stream",
     "text": [
      "['Walking']\n"
     ]
    },
    {
     "name": "stderr",
     "output_type": "stream",
     "text": [
      "\n",
      "\n",
      "\n",
      "\n",
      "Feature Extraction:   0%|          | 0/6 [00:00<?, ?it/s]\u001b[A\n",
      "Feature Extraction: 100%|██████████| 6/6 [00:00<00:00, 3219.78it/s]\u001b[A"
     ]
    },
    {
     "name": "stdout",
     "output_type": "stream",
     "text": [
      "['Walking']\n"
     ]
    },
    {
     "name": "stderr",
     "output_type": "stream",
     "text": [
      "\n",
      "\n",
      "\n",
      "\n",
      "Feature Extraction:   0%|          | 0/6 [00:00<?, ?it/s]\u001b[A\n",
      "Feature Extraction: 100%|██████████| 6/6 [00:00<00:00, 1778.75it/s]\u001b[A"
     ]
    },
    {
     "name": "stdout",
     "output_type": "stream",
     "text": [
      "['Walking']\n"
     ]
    },
    {
     "name": "stderr",
     "output_type": "stream",
     "text": [
      "\n",
      "\n",
      "\n",
      "\n",
      "Feature Extraction:   0%|          | 0/6 [00:00<?, ?it/s]\u001b[A\n",
      "Feature Extraction: 100%|██████████| 6/6 [00:00<00:00, 3645.11it/s]\u001b[A"
     ]
    },
    {
     "name": "stdout",
     "output_type": "stream",
     "text": [
      "['Lying']\n"
     ]
    },
    {
     "name": "stderr",
     "output_type": "stream",
     "text": [
      "\n",
      "\n",
      "\n",
      "\n",
      "Feature Extraction:   0%|          | 0/6 [00:00<?, ?it/s]\u001b[A\n",
      "Feature Extraction: 100%|██████████| 6/6 [00:00<00:00, 457.44it/s]\u001b[A"
     ]
    },
    {
     "name": "stdout",
     "output_type": "stream",
     "text": [
      "['Standing']\n"
     ]
    },
    {
     "name": "stderr",
     "output_type": "stream",
     "text": [
      "\n",
      "\n",
      "\n",
      "\n",
      "Feature Extraction:   0%|          | 0/6 [00:00<?, ?it/s]\u001b[A\n",
      "Feature Extraction: 100%|██████████| 6/6 [00:00<00:00, 3517.24it/s]\u001b[A"
     ]
    },
    {
     "name": "stdout",
     "output_type": "stream",
     "text": [
      "['Standing']\n"
     ]
    },
    {
     "name": "stderr",
     "output_type": "stream",
     "text": [
      "\n",
      "\n",
      "\n",
      "\n",
      "Feature Extraction:   0%|          | 0/6 [00:00<?, ?it/s]\u001b[A\n",
      "Feature Extraction: 100%|██████████| 6/6 [00:00<00:00, 2820.02it/s]\u001b[A"
     ]
    },
    {
     "name": "stdout",
     "output_type": "stream",
     "text": [
      "['Lying']\n"
     ]
    },
    {
     "name": "stderr",
     "output_type": "stream",
     "text": [
      "\n",
      "\n",
      "\n",
      "\n",
      "Feature Extraction:   0%|          | 0/6 [00:00<?, ?it/s]\u001b[A\n",
      "Feature Extraction: 100%|██████████| 6/6 [00:00<00:00, 4244.53it/s]\u001b[A"
     ]
    },
    {
     "name": "stdout",
     "output_type": "stream",
     "text": [
      "['Standing']\n"
     ]
    },
    {
     "name": "stderr",
     "output_type": "stream",
     "text": [
      "\n",
      "\n",
      "\n",
      "\n",
      "Feature Extraction:   0%|          | 0/6 [00:00<?, ?it/s]\u001b[A\n",
      "Feature Extraction: 100%|██████████| 6/6 [00:00<00:00, 549.66it/s]\u001b[A"
     ]
    },
    {
     "name": "stdout",
     "output_type": "stream",
     "text": [
      "['Lying']\n"
     ]
    },
    {
     "name": "stderr",
     "output_type": "stream",
     "text": [
      "\n",
      "\n",
      "\n",
      "\n",
      "Feature Extraction:   0%|          | 0/6 [00:00<?, ?it/s]\u001b[A\n",
      "Feature Extraction: 100%|██████████| 6/6 [00:00<00:00, 3186.35it/s]\u001b[A"
     ]
    },
    {
     "name": "stdout",
     "output_type": "stream",
     "text": [
      "['Lying']\n"
     ]
    },
    {
     "name": "stderr",
     "output_type": "stream",
     "text": [
      "\n",
      "\n",
      "\n",
      "\n",
      "Feature Extraction:   0%|          | 0/6 [00:00<?, ?it/s]\u001b[A\n",
      "Feature Extraction: 100%|██████████| 6/6 [00:00<00:00, 340.00it/s]\u001b[A"
     ]
    },
    {
     "name": "stdout",
     "output_type": "stream",
     "text": [
      "['Lying']\n"
     ]
    },
    {
     "name": "stderr",
     "output_type": "stream",
     "text": [
      "\n",
      "\n",
      "\n",
      "\n",
      "Feature Extraction:   0%|          | 0/6 [00:00<?, ?it/s]\u001b[A\n",
      "Feature Extraction: 100%|██████████| 6/6 [00:00<00:00, 2025.26it/s]\u001b[A"
     ]
    },
    {
     "name": "stdout",
     "output_type": "stream",
     "text": [
      "['Lying']\n"
     ]
    },
    {
     "name": "stderr",
     "output_type": "stream",
     "text": [
      "\n",
      "\n",
      "\n",
      "\n",
      "Feature Extraction:   0%|          | 0/6 [00:00<?, ?it/s]\u001b[A\n",
      "Feature Extraction: 100%|██████████| 6/6 [00:00<00:00, 1053.76it/s]\u001b[A"
     ]
    },
    {
     "name": "stdout",
     "output_type": "stream",
     "text": [
      "['Lying']\n"
     ]
    },
    {
     "name": "stderr",
     "output_type": "stream",
     "text": [
      "\n",
      "\n",
      "\n",
      "\n",
      "Feature Extraction:   0%|          | 0/6 [00:00<?, ?it/s]\u001b[A\n",
      "Feature Extraction: 100%|██████████| 6/6 [00:00<00:00, 322.95it/s]\u001b[A"
     ]
    },
    {
     "name": "stdout",
     "output_type": "stream",
     "text": [
      "['Lying']\n"
     ]
    },
    {
     "name": "stderr",
     "output_type": "stream",
     "text": [
      "\n",
      "\n",
      "\n",
      "\n",
      "Feature Extraction:   0%|          | 0/6 [00:00<?, ?it/s]\u001b[A\n",
      "Feature Extraction: 100%|██████████| 6/6 [00:00<00:00, 1837.86it/s]\u001b[A"
     ]
    },
    {
     "name": "stdout",
     "output_type": "stream",
     "text": [
      "['Lying']\n"
     ]
    },
    {
     "name": "stderr",
     "output_type": "stream",
     "text": [
      "\n",
      "\n",
      "\n",
      "\n",
      "Feature Extraction:   0%|          | 0/6 [00:00<?, ?it/s]\u001b[A\n",
      "Feature Extraction: 100%|██████████| 6/6 [00:00<00:00, 942.65it/s]\u001b[A"
     ]
    },
    {
     "name": "stdout",
     "output_type": "stream",
     "text": [
      "['Lying']\n"
     ]
    },
    {
     "name": "stderr",
     "output_type": "stream",
     "text": [
      "\n",
      "\n",
      "\n",
      "\n",
      "Feature Extraction:   0%|          | 0/6 [00:00<?, ?it/s]\u001b[A\n",
      "Feature Extraction: 100%|██████████| 6/6 [00:00<00:00, 1108.53it/s]\u001b[A"
     ]
    },
    {
     "name": "stdout",
     "output_type": "stream",
     "text": [
      "['Lying']\n"
     ]
    },
    {
     "name": "stderr",
     "output_type": "stream",
     "text": [
      "\n",
      "\n",
      "\n",
      "\n",
      "Feature Extraction:   0%|          | 0/6 [00:00<?, ?it/s]\u001b[A\n",
      "Feature Extraction: 100%|██████████| 6/6 [00:00<00:00, 367.31it/s]\u001b[A"
     ]
    },
    {
     "name": "stdout",
     "output_type": "stream",
     "text": [
      "['Lying']\n"
     ]
    },
    {
     "name": "stderr",
     "output_type": "stream",
     "text": [
      "\n",
      "\n",
      "\n",
      "\n",
      "Feature Extraction:   0%|          | 0/6 [00:00<?, ?it/s]\u001b[A\n",
      "Feature Extraction: 100%|██████████| 6/6 [00:00<00:00, 1884.37it/s]\u001b[A"
     ]
    },
    {
     "name": "stdout",
     "output_type": "stream",
     "text": [
      "['Lying']\n"
     ]
    },
    {
     "name": "stderr",
     "output_type": "stream",
     "text": [
      "\n",
      "\n",
      "\n",
      "\n",
      "Feature Extraction:   0%|          | 0/6 [00:00<?, ?it/s]\u001b[A\n",
      "Feature Extraction: 100%|██████████| 6/6 [00:00<00:00, 352.20it/s]\u001b[A"
     ]
    },
    {
     "name": "stdout",
     "output_type": "stream",
     "text": [
      "['Lying']\n"
     ]
    },
    {
     "name": "stderr",
     "output_type": "stream",
     "text": [
      "\n",
      "\n",
      "\n",
      "\n",
      "Feature Extraction:   0%|          | 0/6 [00:00<?, ?it/s]\u001b[A\n",
      "Feature Extraction: 100%|██████████| 6/6 [00:00<00:00, 4133.00it/s]\u001b[A"
     ]
    },
    {
     "name": "stdout",
     "output_type": "stream",
     "text": [
      "['Lying']\n"
     ]
    },
    {
     "name": "stderr",
     "output_type": "stream",
     "text": [
      "\n",
      "\n",
      "\n",
      "\n",
      "Feature Extraction:   0%|          | 0/6 [00:00<?, ?it/s]\u001b[A\n",
      "Feature Extraction: 100%|██████████| 6/6 [00:00<00:00, 1817.42it/s]\u001b[A"
     ]
    },
    {
     "name": "stdout",
     "output_type": "stream",
     "text": [
      "['Lying']\n"
     ]
    },
    {
     "name": "stderr",
     "output_type": "stream",
     "text": [
      "\n",
      "\n",
      "\n",
      "\n",
      "Feature Extraction:   0%|          | 0/6 [00:00<?, ?it/s]\u001b[A\n",
      "Feature Extraction: 100%|██████████| 6/6 [00:00<00:00, 376.13it/s]\u001b[A"
     ]
    },
    {
     "name": "stdout",
     "output_type": "stream",
     "text": [
      "['Lying']\n"
     ]
    },
    {
     "name": "stderr",
     "output_type": "stream",
     "text": [
      "\n",
      "\n",
      "\n",
      "\n",
      "Feature Extraction:   0%|          | 0/6 [00:00<?, ?it/s]\u001b[A\n",
      "Feature Extraction: 100%|██████████| 6/6 [00:00<00:00, 362.20it/s]\u001b[A"
     ]
    },
    {
     "name": "stdout",
     "output_type": "stream",
     "text": [
      "['Lying']\n"
     ]
    },
    {
     "name": "stderr",
     "output_type": "stream",
     "text": [
      "\n",
      "\n",
      "\n",
      "\n",
      "Feature Extraction:   0%|          | 0/6 [00:00<?, ?it/s]\u001b[A\n",
      "Feature Extraction: 100%|██████████| 6/6 [00:00<00:00, 411.33it/s]\u001b[A"
     ]
    },
    {
     "name": "stdout",
     "output_type": "stream",
     "text": [
      "['Lying']\n"
     ]
    },
    {
     "name": "stderr",
     "output_type": "stream",
     "text": [
      "\n",
      "\n",
      "\n",
      "\n",
      "Feature Extraction:   0%|          | 0/6 [00:00<?, ?it/s]\u001b[A\n",
      "Feature Extraction: 100%|██████████| 6/6 [00:00<00:00, 3269.99it/s]\u001b[A"
     ]
    },
    {
     "name": "stdout",
     "output_type": "stream",
     "text": [
      "['Lying']\n"
     ]
    },
    {
     "name": "stderr",
     "output_type": "stream",
     "text": [
      "\n",
      "\n",
      "\n",
      "\n",
      "Feature Extraction:   0%|          | 0/6 [00:00<?, ?it/s]\u001b[A\n",
      "Feature Extraction: 100%|██████████| 6/6 [00:00<00:00, 2675.22it/s]\u001b[A"
     ]
    },
    {
     "name": "stdout",
     "output_type": "stream",
     "text": [
      "['Lying']\n"
     ]
    },
    {
     "name": "stderr",
     "output_type": "stream",
     "text": [
      "\n",
      "\n",
      "\n",
      "\n",
      "Feature Extraction:   0%|          | 0/6 [00:00<?, ?it/s]\u001b[A\n",
      "Feature Extraction: 100%|██████████| 6/6 [00:00<00:00, 4481.09it/s]\u001b[A"
     ]
    },
    {
     "name": "stdout",
     "output_type": "stream",
     "text": [
      "['Lying']\n"
     ]
    },
    {
     "name": "stderr",
     "output_type": "stream",
     "text": [
      "\n",
      "Process ForkPoolWorker-297:\n",
      "\n",
      "Traceback (most recent call last):\n",
      "\n",
      "  File \"/home/palash/anaconda3/lib/python3.6/multiprocessing/connection.py\", line 379, in _recv\n",
      "    chunk = read(handle, remaining)\n",
      "  File \"/home/palash/anaconda3/lib/python3.6/multiprocessing/connection.py\", line 407, in _recv_bytes\n",
      "    buf = self._recv(4)\n",
      "  File \"/home/palash/anaconda3/lib/python3.6/multiprocessing/connection.py\", line 216, in recv_bytes\n",
      "    buf = self._recv_bytes(maxlength)\n",
      "  File \"/home/palash/anaconda3/lib/python3.6/multiprocessing/queues.py\", line 343, in get\n",
      "    res = self._reader.recv_bytes()\n",
      "  File \"/home/palash/anaconda3/lib/python3.6/multiprocessing/process.py\", line 249, in _bootstrap\n",
      "    self.run()\n",
      "  File \"/home/palash/anaconda3/lib/python3.6/multiprocessing/process.py\", line 93, in run\n",
      "    self._target(*self._args, **self._kwargs)\n",
      "  File \"/home/palash/anaconda3/lib/python3.6/multiprocessing/pool.py\", line 108, in worker\n",
      "    task = get()\n",
      "KeyboardInterrupt\n"
     ]
    },
    {
     "ename": "KeyboardInterrupt",
     "evalue": "",
     "output_type": "error",
     "traceback": [
      "\u001b[0;31m---------------------------------------------------------------------------\u001b[0m",
      "\u001b[0;31mKeyboardInterrupt\u001b[0m                         Traceback (most recent call last)",
      "\u001b[0;32m<ipython-input-173-df123fc4b71e>\u001b[0m in \u001b[0;36m<module>\u001b[0;34m()\u001b[0m\n\u001b[1;32m     42\u001b[0m     \u001b[0mdf\u001b[0m \u001b[0;34m=\u001b[0m \u001b[0mpd\u001b[0m\u001b[0;34m.\u001b[0m\u001b[0mread_csv\u001b[0m\u001b[0;34m(\u001b[0m\u001b[0mStringIO\u001b[0m\u001b[0;34m(\u001b[0m\u001b[0mrow\u001b[0m\u001b[0;34m)\u001b[0m\u001b[0;34m)\u001b[0m\u001b[0;34m\u001b[0m\u001b[0m\n\u001b[1;32m     43\u001b[0m     \u001b[0mdf\u001b[0m\u001b[0;34m.\u001b[0m\u001b[0mcolumns\u001b[0m \u001b[0;34m=\u001b[0m \u001b[0mheader\u001b[0m\u001b[0;34m\u001b[0m\u001b[0m\n\u001b[0;32m---> 44\u001b[0;31m     \u001b[0mdf_proccessed\u001b[0m \u001b[0;34m=\u001b[0m \u001b[0mextract_features\u001b[0m\u001b[0;34m(\u001b[0m\u001b[0mdf\u001b[0m\u001b[0;34m,\u001b[0m\u001b[0mfc_parameters\u001b[0m\u001b[0;34m,\u001b[0m\u001b[0mn_jobs\u001b[0m\u001b[0;34m=\u001b[0m\u001b[0;36m3\u001b[0m\u001b[0;34m,\u001b[0m\u001b[0mcolumn_sort\u001b[0m\u001b[0;34m=\u001b[0m\u001b[0;34m'Timestamp'\u001b[0m\u001b[0;34m,\u001b[0m\u001b[0mcolumn_id\u001b[0m\u001b[0;34m=\u001b[0m\u001b[0;34m'marker'\u001b[0m\u001b[0;34m)\u001b[0m\u001b[0;34m\u001b[0m\u001b[0m\n\u001b[0m\u001b[1;32m     45\u001b[0m     \u001b[0mprint\u001b[0m\u001b[0;34m(\u001b[0m\u001b[0mrf_model\u001b[0m\u001b[0;34m.\u001b[0m\u001b[0mpredict\u001b[0m\u001b[0;34m(\u001b[0m\u001b[0mdf_proccessed\u001b[0m\u001b[0;34m.\u001b[0m\u001b[0mas_matrix\u001b[0m\u001b[0;34m(\u001b[0m\u001b[0;34m)\u001b[0m\u001b[0;34m)\u001b[0m\u001b[0;34m)\u001b[0m\u001b[0;34m\u001b[0m\u001b[0m\n",
      "\u001b[0;32m/home/palash/anaconda3/lib/python3.6/site-packages/tsfresh/feature_extraction/extraction.py\u001b[0m in \u001b[0;36mextract_features\u001b[0;34m(timeseries_container, default_fc_parameters, kind_to_fc_parameters, column_id, column_sort, column_kind, column_value, chunksize, n_jobs, show_warnings, disable_progressbar, impute_function, profile, profiling_filename, profiling_sorting, distributor)\u001b[0m\n\u001b[1;32m    150\u001b[0m                                 \u001b[0mdefault_fc_parameters\u001b[0m\u001b[0;34m=\u001b[0m\u001b[0mdefault_fc_parameters\u001b[0m\u001b[0;34m,\u001b[0m\u001b[0;34m\u001b[0m\u001b[0m\n\u001b[1;32m    151\u001b[0m                                 \u001b[0mkind_to_fc_parameters\u001b[0m\u001b[0;34m=\u001b[0m\u001b[0mkind_to_fc_parameters\u001b[0m\u001b[0;34m,\u001b[0m\u001b[0;34m\u001b[0m\u001b[0m\n\u001b[0;32m--> 152\u001b[0;31m                                 distributor=distributor)\n\u001b[0m\u001b[1;32m    153\u001b[0m \u001b[0;34m\u001b[0m\u001b[0m\n\u001b[1;32m    154\u001b[0m         \u001b[0;31m# Impute the result if requested\u001b[0m\u001b[0;34m\u001b[0m\u001b[0;34m\u001b[0m\u001b[0m\n",
      "\u001b[0;32m/home/palash/anaconda3/lib/python3.6/site-packages/tsfresh/feature_extraction/extraction.py\u001b[0m in \u001b[0;36m_do_extraction\u001b[0;34m(df, column_id, column_value, column_kind, default_fc_parameters, kind_to_fc_parameters, n_jobs, chunk_size, disable_progressbar, distributor)\u001b[0m\n\u001b[1;32m    224\u001b[0m         \u001b[0;32melse\u001b[0m\u001b[0;34m:\u001b[0m\u001b[0;34m\u001b[0m\u001b[0m\n\u001b[1;32m    225\u001b[0m             distributor = MultiprocessingDistributor(n_workers=n_jobs, disable_progressbar=disable_progressbar,\n\u001b[0;32m--> 226\u001b[0;31m                                                      progressbar_title=\"Feature Extraction\")\n\u001b[0m\u001b[1;32m    227\u001b[0m \u001b[0;34m\u001b[0m\u001b[0m\n\u001b[1;32m    228\u001b[0m     \u001b[0;32mif\u001b[0m \u001b[0;32mnot\u001b[0m \u001b[0misinstance\u001b[0m\u001b[0;34m(\u001b[0m\u001b[0mdistributor\u001b[0m\u001b[0;34m,\u001b[0m \u001b[0mDistributorBaseClass\u001b[0m\u001b[0;34m)\u001b[0m\u001b[0;34m:\u001b[0m\u001b[0;34m\u001b[0m\u001b[0m\n",
      "\u001b[0;32m/home/palash/anaconda3/lib/python3.6/site-packages/tsfresh/utilities/distribution.py\u001b[0m in \u001b[0;36m__init__\u001b[0;34m(self, n_workers, disable_progressbar, progressbar_title)\u001b[0m\n\u001b[1;32m    339\u001b[0m         \u001b[0;34m:\u001b[0m\u001b[0mtype\u001b[0m \u001b[0mprogressbar_title\u001b[0m\u001b[0;34m:\u001b[0m \u001b[0mbasestring\u001b[0m\u001b[0;34m\u001b[0m\u001b[0m\n\u001b[1;32m    340\u001b[0m         \"\"\"\n\u001b[0;32m--> 341\u001b[0;31m         \u001b[0mself\u001b[0m\u001b[0;34m.\u001b[0m\u001b[0mpool\u001b[0m \u001b[0;34m=\u001b[0m \u001b[0mPool\u001b[0m\u001b[0;34m(\u001b[0m\u001b[0mprocesses\u001b[0m\u001b[0;34m=\u001b[0m\u001b[0mn_workers\u001b[0m\u001b[0;34m)\u001b[0m\u001b[0;34m\u001b[0m\u001b[0m\n\u001b[0m\u001b[1;32m    342\u001b[0m         \u001b[0mself\u001b[0m\u001b[0;34m.\u001b[0m\u001b[0mn_workers\u001b[0m \u001b[0;34m=\u001b[0m \u001b[0mn_workers\u001b[0m\u001b[0;34m\u001b[0m\u001b[0m\n\u001b[1;32m    343\u001b[0m         \u001b[0mself\u001b[0m\u001b[0;34m.\u001b[0m\u001b[0mdisable_progressbar\u001b[0m \u001b[0;34m=\u001b[0m \u001b[0mdisable_progressbar\u001b[0m\u001b[0;34m\u001b[0m\u001b[0m\n",
      "\u001b[0;32m/home/palash/anaconda3/lib/python3.6/multiprocessing/context.py\u001b[0m in \u001b[0;36mPool\u001b[0;34m(self, processes, initializer, initargs, maxtasksperchild)\u001b[0m\n\u001b[1;32m    117\u001b[0m         \u001b[0;32mfrom\u001b[0m \u001b[0;34m.\u001b[0m\u001b[0mpool\u001b[0m \u001b[0;32mimport\u001b[0m \u001b[0mPool\u001b[0m\u001b[0;34m\u001b[0m\u001b[0m\n\u001b[1;32m    118\u001b[0m         return Pool(processes, initializer, initargs, maxtasksperchild,\n\u001b[0;32m--> 119\u001b[0;31m                     context=self.get_context())\n\u001b[0m\u001b[1;32m    120\u001b[0m \u001b[0;34m\u001b[0m\u001b[0m\n\u001b[1;32m    121\u001b[0m     \u001b[0;32mdef\u001b[0m \u001b[0mRawValue\u001b[0m\u001b[0;34m(\u001b[0m\u001b[0mself\u001b[0m\u001b[0;34m,\u001b[0m \u001b[0mtypecode_or_type\u001b[0m\u001b[0;34m,\u001b[0m \u001b[0;34m*\u001b[0m\u001b[0margs\u001b[0m\u001b[0;34m)\u001b[0m\u001b[0;34m:\u001b[0m\u001b[0;34m\u001b[0m\u001b[0m\n",
      "\u001b[0;32m/home/palash/anaconda3/lib/python3.6/multiprocessing/pool.py\u001b[0m in \u001b[0;36m__init__\u001b[0;34m(self, processes, initializer, initargs, maxtasksperchild, context)\u001b[0m\n\u001b[1;32m    166\u001b[0m         \u001b[0mself\u001b[0m\u001b[0;34m.\u001b[0m\u001b[0m_processes\u001b[0m \u001b[0;34m=\u001b[0m \u001b[0mprocesses\u001b[0m\u001b[0;34m\u001b[0m\u001b[0m\n\u001b[1;32m    167\u001b[0m         \u001b[0mself\u001b[0m\u001b[0;34m.\u001b[0m\u001b[0m_pool\u001b[0m \u001b[0;34m=\u001b[0m \u001b[0;34m[\u001b[0m\u001b[0;34m]\u001b[0m\u001b[0;34m\u001b[0m\u001b[0m\n\u001b[0;32m--> 168\u001b[0;31m         \u001b[0mself\u001b[0m\u001b[0;34m.\u001b[0m\u001b[0m_repopulate_pool\u001b[0m\u001b[0;34m(\u001b[0m\u001b[0;34m)\u001b[0m\u001b[0;34m\u001b[0m\u001b[0m\n\u001b[0m\u001b[1;32m    169\u001b[0m \u001b[0;34m\u001b[0m\u001b[0m\n\u001b[1;32m    170\u001b[0m         self._worker_handler = threading.Thread(\n",
      "\u001b[0;32m/home/palash/anaconda3/lib/python3.6/multiprocessing/pool.py\u001b[0m in \u001b[0;36m_repopulate_pool\u001b[0;34m(self)\u001b[0m\n\u001b[1;32m    231\u001b[0m             \u001b[0mw\u001b[0m\u001b[0;34m.\u001b[0m\u001b[0mname\u001b[0m \u001b[0;34m=\u001b[0m \u001b[0mw\u001b[0m\u001b[0;34m.\u001b[0m\u001b[0mname\u001b[0m\u001b[0;34m.\u001b[0m\u001b[0mreplace\u001b[0m\u001b[0;34m(\u001b[0m\u001b[0;34m'Process'\u001b[0m\u001b[0;34m,\u001b[0m \u001b[0;34m'PoolWorker'\u001b[0m\u001b[0;34m)\u001b[0m\u001b[0;34m\u001b[0m\u001b[0m\n\u001b[1;32m    232\u001b[0m             \u001b[0mw\u001b[0m\u001b[0;34m.\u001b[0m\u001b[0mdaemon\u001b[0m \u001b[0;34m=\u001b[0m \u001b[0;32mTrue\u001b[0m\u001b[0;34m\u001b[0m\u001b[0m\n\u001b[0;32m--> 233\u001b[0;31m             \u001b[0mw\u001b[0m\u001b[0;34m.\u001b[0m\u001b[0mstart\u001b[0m\u001b[0;34m(\u001b[0m\u001b[0;34m)\u001b[0m\u001b[0;34m\u001b[0m\u001b[0m\n\u001b[0m\u001b[1;32m    234\u001b[0m             \u001b[0mutil\u001b[0m\u001b[0;34m.\u001b[0m\u001b[0mdebug\u001b[0m\u001b[0;34m(\u001b[0m\u001b[0;34m'added worker'\u001b[0m\u001b[0;34m)\u001b[0m\u001b[0;34m\u001b[0m\u001b[0m\n\u001b[1;32m    235\u001b[0m \u001b[0;34m\u001b[0m\u001b[0m\n",
      "\u001b[0;32m/home/palash/anaconda3/lib/python3.6/multiprocessing/process.py\u001b[0m in \u001b[0;36mstart\u001b[0;34m(self)\u001b[0m\n\u001b[1;32m    103\u001b[0m                \u001b[0;34m'daemonic processes are not allowed to have children'\u001b[0m\u001b[0;34m\u001b[0m\u001b[0m\n\u001b[1;32m    104\u001b[0m         \u001b[0m_cleanup\u001b[0m\u001b[0;34m(\u001b[0m\u001b[0;34m)\u001b[0m\u001b[0;34m\u001b[0m\u001b[0m\n\u001b[0;32m--> 105\u001b[0;31m         \u001b[0mself\u001b[0m\u001b[0;34m.\u001b[0m\u001b[0m_popen\u001b[0m \u001b[0;34m=\u001b[0m \u001b[0mself\u001b[0m\u001b[0;34m.\u001b[0m\u001b[0m_Popen\u001b[0m\u001b[0;34m(\u001b[0m\u001b[0mself\u001b[0m\u001b[0;34m)\u001b[0m\u001b[0;34m\u001b[0m\u001b[0m\n\u001b[0m\u001b[1;32m    106\u001b[0m         \u001b[0mself\u001b[0m\u001b[0;34m.\u001b[0m\u001b[0m_sentinel\u001b[0m \u001b[0;34m=\u001b[0m \u001b[0mself\u001b[0m\u001b[0;34m.\u001b[0m\u001b[0m_popen\u001b[0m\u001b[0;34m.\u001b[0m\u001b[0msentinel\u001b[0m\u001b[0;34m\u001b[0m\u001b[0m\n\u001b[1;32m    107\u001b[0m         \u001b[0m_children\u001b[0m\u001b[0;34m.\u001b[0m\u001b[0madd\u001b[0m\u001b[0;34m(\u001b[0m\u001b[0mself\u001b[0m\u001b[0;34m)\u001b[0m\u001b[0;34m\u001b[0m\u001b[0m\n",
      "\u001b[0;32m/home/palash/anaconda3/lib/python3.6/multiprocessing/context.py\u001b[0m in \u001b[0;36m_Popen\u001b[0;34m(process_obj)\u001b[0m\n\u001b[1;32m    275\u001b[0m         \u001b[0;32mdef\u001b[0m \u001b[0m_Popen\u001b[0m\u001b[0;34m(\u001b[0m\u001b[0mprocess_obj\u001b[0m\u001b[0;34m)\u001b[0m\u001b[0;34m:\u001b[0m\u001b[0;34m\u001b[0m\u001b[0m\n\u001b[1;32m    276\u001b[0m             \u001b[0;32mfrom\u001b[0m \u001b[0;34m.\u001b[0m\u001b[0mpopen_fork\u001b[0m \u001b[0;32mimport\u001b[0m \u001b[0mPopen\u001b[0m\u001b[0;34m\u001b[0m\u001b[0m\n\u001b[0;32m--> 277\u001b[0;31m             \u001b[0;32mreturn\u001b[0m \u001b[0mPopen\u001b[0m\u001b[0;34m(\u001b[0m\u001b[0mprocess_obj\u001b[0m\u001b[0;34m)\u001b[0m\u001b[0;34m\u001b[0m\u001b[0m\n\u001b[0m\u001b[1;32m    278\u001b[0m \u001b[0;34m\u001b[0m\u001b[0m\n\u001b[1;32m    279\u001b[0m     \u001b[0;32mclass\u001b[0m \u001b[0mSpawnProcess\u001b[0m\u001b[0;34m(\u001b[0m\u001b[0mprocess\u001b[0m\u001b[0;34m.\u001b[0m\u001b[0mBaseProcess\u001b[0m\u001b[0;34m)\u001b[0m\u001b[0;34m:\u001b[0m\u001b[0;34m\u001b[0m\u001b[0m\n",
      "\u001b[0;32m/home/palash/anaconda3/lib/python3.6/multiprocessing/popen_fork.py\u001b[0m in \u001b[0;36m__init__\u001b[0;34m(self, process_obj)\u001b[0m\n\u001b[1;32m     18\u001b[0m         \u001b[0msys\u001b[0m\u001b[0;34m.\u001b[0m\u001b[0mstderr\u001b[0m\u001b[0;34m.\u001b[0m\u001b[0mflush\u001b[0m\u001b[0;34m(\u001b[0m\u001b[0;34m)\u001b[0m\u001b[0;34m\u001b[0m\u001b[0m\n\u001b[1;32m     19\u001b[0m         \u001b[0mself\u001b[0m\u001b[0;34m.\u001b[0m\u001b[0mreturncode\u001b[0m \u001b[0;34m=\u001b[0m \u001b[0;32mNone\u001b[0m\u001b[0;34m\u001b[0m\u001b[0m\n\u001b[0;32m---> 20\u001b[0;31m         \u001b[0mself\u001b[0m\u001b[0;34m.\u001b[0m\u001b[0m_launch\u001b[0m\u001b[0;34m(\u001b[0m\u001b[0mprocess_obj\u001b[0m\u001b[0;34m)\u001b[0m\u001b[0;34m\u001b[0m\u001b[0m\n\u001b[0m\u001b[1;32m     21\u001b[0m \u001b[0;34m\u001b[0m\u001b[0m\n\u001b[1;32m     22\u001b[0m     \u001b[0;32mdef\u001b[0m \u001b[0mduplicate_for_child\u001b[0m\u001b[0;34m(\u001b[0m\u001b[0mself\u001b[0m\u001b[0;34m,\u001b[0m \u001b[0mfd\u001b[0m\u001b[0;34m)\u001b[0m\u001b[0;34m:\u001b[0m\u001b[0;34m\u001b[0m\u001b[0m\n",
      "\u001b[0;32m/home/palash/anaconda3/lib/python3.6/multiprocessing/popen_fork.py\u001b[0m in \u001b[0;36m_launch\u001b[0;34m(self, process_obj)\u001b[0m\n\u001b[1;32m     65\u001b[0m         \u001b[0mcode\u001b[0m \u001b[0;34m=\u001b[0m \u001b[0;36m1\u001b[0m\u001b[0;34m\u001b[0m\u001b[0m\n\u001b[1;32m     66\u001b[0m         \u001b[0mparent_r\u001b[0m\u001b[0;34m,\u001b[0m \u001b[0mchild_w\u001b[0m \u001b[0;34m=\u001b[0m \u001b[0mos\u001b[0m\u001b[0;34m.\u001b[0m\u001b[0mpipe\u001b[0m\u001b[0;34m(\u001b[0m\u001b[0;34m)\u001b[0m\u001b[0;34m\u001b[0m\u001b[0m\n\u001b[0;32m---> 67\u001b[0;31m         \u001b[0mself\u001b[0m\u001b[0;34m.\u001b[0m\u001b[0mpid\u001b[0m \u001b[0;34m=\u001b[0m \u001b[0mos\u001b[0m\u001b[0;34m.\u001b[0m\u001b[0mfork\u001b[0m\u001b[0;34m(\u001b[0m\u001b[0;34m)\u001b[0m\u001b[0;34m\u001b[0m\u001b[0m\n\u001b[0m\u001b[1;32m     68\u001b[0m         \u001b[0;32mif\u001b[0m \u001b[0mself\u001b[0m\u001b[0;34m.\u001b[0m\u001b[0mpid\u001b[0m \u001b[0;34m==\u001b[0m \u001b[0;36m0\u001b[0m\u001b[0;34m:\u001b[0m\u001b[0;34m\u001b[0m\u001b[0m\n\u001b[1;32m     69\u001b[0m             \u001b[0;32mtry\u001b[0m\u001b[0;34m:\u001b[0m\u001b[0;34m\u001b[0m\u001b[0m\n",
      "\u001b[0;31mKeyboardInterrupt\u001b[0m: "
     ]
    },
    {
     "name": "stderr",
     "output_type": "stream",
     "text": [
      "\n",
      "\n"
     ]
    }
   ],
   "source": [
    "import socket, traceback\n",
    "import pandas as pd\n",
    "import time\n",
    "from sklearn.externals import joblib\n",
    "from tsfresh.feature_extraction import extract_features, EfficientFCParameters, MinimalFCParameters,ComprehensiveFCParameters\n",
    "from io import StringIO\n",
    "from sklearn.ensemble import RandomForestClassifier\n",
    "\n",
    "header = ['Timestamp','Ac-x','Ac-y','Ac-z','Gy-x','Gy-y','Gy-z','marker']\n",
    "fc_parameters = {\n",
    "    'abs_energy':None,\n",
    "    'maximum': None,\n",
    "    'mean': None,\n",
    "    'median': None,\n",
    "    'minimum': None,\n",
    "    'standard_deviation': None,\n",
    "    'variance': None,\n",
    "    'kurtosis': None,\n",
    "    'skewness': None,\n",
    "}\n",
    "rf_model = joblib.load('RandomForest')\n",
    "host = '10.42.0.1'\n",
    "port = 5555\n",
    "\n",
    "s = socket.socket(socket.AF_INET, socket.SOCK_DGRAM)\n",
    "s.setsockopt(socket.SOL_SOCKET, socket.SO_REUSEADDR, 1)\n",
    "s.setsockopt(socket.SOL_SOCKET, socket.SO_BROADCAST, 1)\n",
    "s.bind((host, port))\n",
    "count = 40\n",
    "while 1:\n",
    "    row = ''\n",
    "    for i in range(40):\n",
    "        try:\n",
    "            message, address = s.recvfrom(8192)\n",
    "            row = row + bytes.decode(message)[:-2] + ',1\\n'\n",
    "        except (KeyboardInterrupt, SystemExit):\n",
    "            #dataset.close()\n",
    "            print('\\nClosing.')\n",
    "            raise\n",
    "        except:\n",
    "            traceback.print_exc()\n",
    "    df = pd.read_csv(StringIO(row))\n",
    "    df.columns = header\n",
    "    df_proccessed = extract_features(df,fc_parameters,n_jobs=3,column_sort='Timestamp',column_id='marker',disable_progressbar=True)\n",
    "    print(rf_model.predict(df_proccessed.as_matrix()))"
   ]
  },
  {
   "cell_type": "code",
   "execution_count": 159,
   "metadata": {
    "collapsed": true
   },
   "outputs": [],
   "source": [
    "l = ['sdf sdf fgdhdfg ','sdfgsdg sdfgs']"
   ]
  },
  {
   "cell_type": "code",
   "execution_count": 162,
   "metadata": {},
   "outputs": [
    {
     "data": {
      "text/plain": [
       "3"
      ]
     },
     "execution_count": 162,
     "metadata": {},
     "output_type": "execute_result"
    }
   ],
   "source": [
    "import sys\n",
    "sys.version_info[0]"
   ]
  },
  {
   "cell_type": "code",
   "execution_count": null,
   "metadata": {
    "collapsed": true
   },
   "outputs": [],
   "source": []
  }
 ],
 "metadata": {
  "kernelspec": {
   "display_name": "Python 3",
   "language": "python",
   "name": "python3"
  },
  "language_info": {
   "codemirror_mode": {
    "name": "ipython",
    "version": 3
   },
   "file_extension": ".py",
   "mimetype": "text/x-python",
   "name": "python",
   "nbconvert_exporter": "python",
   "pygments_lexer": "ipython3",
   "version": "3.6.1"
  }
 },
 "nbformat": 4,
 "nbformat_minor": 2
}
